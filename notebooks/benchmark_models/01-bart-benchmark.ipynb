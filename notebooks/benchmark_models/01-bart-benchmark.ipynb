{
 "cells": [
  {
   "cell_type": "markdown",
   "id": "alpine-finger",
   "metadata": {
    "toc": true
   },
   "source": [
    "<h1>Table of Contents<span class=\"tocSkip\"></span></h1>\n",
    "<div class=\"toc\"><ul class=\"toc-item\"><li><span><a href=\"#Imports\" data-toc-modified-id=\"Imports-1\"><span class=\"toc-item-num\">1&nbsp;&nbsp;</span>Imports</a></span></li><li><span><a href=\"#Statics\" data-toc-modified-id=\"Statics-2\"><span class=\"toc-item-num\">2&nbsp;&nbsp;</span>Statics</a></span></li><li><span><a href=\"#Load-relevant-data\" data-toc-modified-id=\"Load-relevant-data-3\"><span class=\"toc-item-num\">3&nbsp;&nbsp;</span>Load relevant data</a></span></li><li><span><a href=\"#Load-model\" data-toc-modified-id=\"Load-model-4\"><span class=\"toc-item-num\">4&nbsp;&nbsp;</span>Load model</a></span></li><li><span><a href=\"#Evaluate\" data-toc-modified-id=\"Evaluate-5\"><span class=\"toc-item-num\">5&nbsp;&nbsp;</span>Evaluate</a></span></li></ul></div>"
   ]
  },
  {
   "cell_type": "markdown",
   "id": "formed-lodging",
   "metadata": {},
   "source": [
    "# Imports"
   ]
  },
  {
   "cell_type": "code",
   "execution_count": 1,
   "id": "twenty-galaxy",
   "metadata": {},
   "outputs": [],
   "source": [
    "import os\n",
    "\n",
    "os.chdir(\"/home/ivanr/git/document_information_extraction/\")"
   ]
  },
  {
   "cell_type": "code",
   "execution_count": 2,
   "id": "popular-integer",
   "metadata": {},
   "outputs": [],
   "source": [
    "%load_ext lab_black"
   ]
  },
  {
   "cell_type": "code",
   "execution_count": 3,
   "id": "motivated-mortgage",
   "metadata": {},
   "outputs": [],
   "source": [
    "import pickle\n",
    "\n",
    "import pandas as pd\n",
    "\n",
    "import torch\n",
    "import transformers\n",
    "from transformers import BartTokenizer, BartForConditionalGeneration"
   ]
  },
  {
   "cell_type": "code",
   "execution_count": 4,
   "id": "valuable-uniform",
   "metadata": {},
   "outputs": [],
   "source": [
    "from src.data.wikipedia.wiki_data_base import (\n",
    "    retrieve_query,\n",
    "    retrive_observations_from_ids,\n",
    ")"
   ]
  },
  {
   "cell_type": "markdown",
   "id": "ceramic-lambda",
   "metadata": {},
   "source": [
    "# Statics"
   ]
  },
  {
   "cell_type": "code",
   "execution_count": 5,
   "id": "rotary-torture",
   "metadata": {},
   "outputs": [],
   "source": [
    "from src.data.data_statics import (\n",
    "    MIN_SEMANTIC_SIMILARITY,\n",
    "    MIN_NOVELTY,\n",
    "    MAX_NOVELTY,\n",
    "    MAX_TOKENS_BODY,\n",
    ")"
   ]
  },
  {
   "cell_type": "code",
   "execution_count": 6,
   "id": "exciting-palestinian",
   "metadata": {},
   "outputs": [],
   "source": [
    "RANDOM_SEED = 0\n",
    "N_SAMPLE_TEXTS = 1000"
   ]
  },
  {
   "cell_type": "code",
   "execution_count": 7,
   "id": "outside-nepal",
   "metadata": {},
   "outputs": [],
   "source": [
    "QUERY_SUITABLE_ARTICLES = f\"\"\"\n",
    "SELECT ar.*,\n",
    "       nv.novelty_tokens,\n",
    "       nv.novelty_bigrams,\n",
    "       nv.novelty_trigrams,\n",
    "       cs.semantic_similarity\n",
    "       \n",
    "FROM article_level_info ar\n",
    "INNER JOIN wiki_article_novelty nv\n",
    "    ON ar.pageid = nv.pageid\n",
    "INNER JOIN wiki_article_cosine_similarity cs\n",
    "    ON ar.pageid = cs.pageid\n",
    "WHERE cs.semantic_similarity>={MIN_SEMANTIC_SIMILARITY}\n",
    "    AND nv.novelty_tokens<={MAX_NOVELTY}\n",
    "    AND nv.novelty_tokens>={MIN_NOVELTY}\n",
    "    AND ar.body_word_count<={MAX_TOKENS_BODY}\n",
    "\"\"\""
   ]
  },
  {
   "cell_type": "markdown",
   "id": "radical-carbon",
   "metadata": {},
   "source": [
    "# Load relevant data"
   ]
  },
  {
   "cell_type": "code",
   "execution_count": 8,
   "id": "fancy-intake",
   "metadata": {},
   "outputs": [],
   "source": [
    "characterisation_df = pd.DataFrame(\n",
    "    retrieve_query(QUERY_SUITABLE_ARTICLES),\n",
    "    columns=[\n",
    "        \"pageid\",\n",
    "        \"title\",\n",
    "        \"summary_word_count\",\n",
    "        \"body_word_count\",\n",
    "        \"novelty_tokens\",\n",
    "        \"novelty_bigrams\",\n",
    "        \"novelty_trigrams\",\n",
    "        \"semantic_similarity\",\n",
    "    ],\n",
    ")"
   ]
  },
  {
   "cell_type": "code",
   "execution_count": 9,
   "id": "cosmetic-effectiveness",
   "metadata": {},
   "outputs": [
    {
     "name": "stdout",
     "output_type": "stream",
     "text": [
      "length of file: 527327\n"
     ]
    },
    {
     "data": {
      "text/html": [
       "<div>\n",
       "<style scoped>\n",
       "    .dataframe tbody tr th:only-of-type {\n",
       "        vertical-align: middle;\n",
       "    }\n",
       "\n",
       "    .dataframe tbody tr th {\n",
       "        vertical-align: top;\n",
       "    }\n",
       "\n",
       "    .dataframe thead th {\n",
       "        text-align: right;\n",
       "    }\n",
       "</style>\n",
       "<table border=\"1\" class=\"dataframe\">\n",
       "  <thead>\n",
       "    <tr style=\"text-align: right;\">\n",
       "      <th></th>\n",
       "      <th>pageid</th>\n",
       "      <th>title</th>\n",
       "      <th>summary_word_count</th>\n",
       "      <th>body_word_count</th>\n",
       "      <th>novelty_tokens</th>\n",
       "      <th>novelty_bigrams</th>\n",
       "      <th>novelty_trigrams</th>\n",
       "      <th>semantic_similarity</th>\n",
       "    </tr>\n",
       "  </thead>\n",
       "  <tbody>\n",
       "    <tr>\n",
       "      <th>0</th>\n",
       "      <td>330</td>\n",
       "      <td>Actrius</td>\n",
       "      <td>57</td>\n",
       "      <td>342</td>\n",
       "      <td>0.424242424242424</td>\n",
       "      <td>0.837838</td>\n",
       "      <td>0.921053</td>\n",
       "      <td>0.674556</td>\n",
       "    </tr>\n",
       "    <tr>\n",
       "      <th>1</th>\n",
       "      <td>340</td>\n",
       "      <td>Alain Connes</td>\n",
       "      <td>61</td>\n",
       "      <td>308</td>\n",
       "      <td>0.388888888888889</td>\n",
       "      <td>0.804878</td>\n",
       "      <td>0.902439</td>\n",
       "      <td>0.796262</td>\n",
       "    </tr>\n",
       "    <tr>\n",
       "      <th>2</th>\n",
       "      <td>683</td>\n",
       "      <td>Adventure</td>\n",
       "      <td>80</td>\n",
       "      <td>661</td>\n",
       "      <td>0.476190476190476</td>\n",
       "      <td>0.836735</td>\n",
       "      <td>0.918367</td>\n",
       "      <td>0.669381</td>\n",
       "    </tr>\n",
       "    <tr>\n",
       "      <th>3</th>\n",
       "      <td>772</td>\n",
       "      <td>Ampere</td>\n",
       "      <td>185</td>\n",
       "      <td>684</td>\n",
       "      <td>0.394366197183099</td>\n",
       "      <td>0.735043</td>\n",
       "      <td>0.874016</td>\n",
       "      <td>0.880544</td>\n",
       "    </tr>\n",
       "    <tr>\n",
       "      <th>4</th>\n",
       "      <td>787</td>\n",
       "      <td>Alismatales</td>\n",
       "      <td>62</td>\n",
       "      <td>721</td>\n",
       "      <td>0.486486486486487</td>\n",
       "      <td>0.869565</td>\n",
       "      <td>0.977778</td>\n",
       "      <td>0.707240</td>\n",
       "    </tr>\n",
       "  </tbody>\n",
       "</table>\n",
       "</div>"
      ],
      "text/plain": [
       "   pageid         title  summary_word_count  body_word_count  \\\n",
       "0     330       Actrius                  57              342   \n",
       "1     340  Alain Connes                  61              308   \n",
       "2     683     Adventure                  80              661   \n",
       "3     772        Ampere                 185              684   \n",
       "4     787   Alismatales                  62              721   \n",
       "\n",
       "      novelty_tokens  novelty_bigrams  novelty_trigrams  semantic_similarity  \n",
       "0  0.424242424242424         0.837838          0.921053             0.674556  \n",
       "1  0.388888888888889         0.804878          0.902439             0.796262  \n",
       "2  0.476190476190476         0.836735          0.918367             0.669381  \n",
       "3  0.394366197183099         0.735043          0.874016             0.880544  \n",
       "4  0.486486486486487         0.869565          0.977778             0.707240  "
      ]
     },
     "execution_count": 9,
     "metadata": {},
     "output_type": "execute_result"
    }
   ],
   "source": [
    "print(f\"length of file: {len(characterisation_df)}\")\n",
    "characterisation_df.head()"
   ]
  },
  {
   "cell_type": "code",
   "execution_count": 10,
   "id": "extended-lighter",
   "metadata": {},
   "outputs": [],
   "source": [
    "pageids_to_evaluate = list(\n",
    "    characterisation_df[\"pageid\"].sample(n=N_SAMPLE_TEXTS, random_state=RANDOM_SEED)\n",
    ")"
   ]
  },
  {
   "cell_type": "code",
   "execution_count": 11,
   "id": "medieval-mitchell",
   "metadata": {},
   "outputs": [],
   "source": [
    "ARTICLE_GENERATOR = retrive_observations_from_ids(pageids_to_evaluate)"
   ]
  },
  {
   "cell_type": "code",
   "execution_count": 12,
   "id": "finished-edward",
   "metadata": {},
   "outputs": [],
   "source": [
    "def decode_row(article):\n",
    "    pageid = article[0]\n",
    "    # section_title = article[1]\n",
    "    summary = article[2]\n",
    "    body = \"\".join(pickle.loads(article[3]))\n",
    "    return pageid, summary, body"
   ]
  },
  {
   "cell_type": "markdown",
   "id": "sitting-barrier",
   "metadata": {},
   "source": [
    "# Load model"
   ]
  },
  {
   "cell_type": "code",
   "execution_count": 13,
   "id": "later-space",
   "metadata": {},
   "outputs": [
    {
     "name": "stdout",
     "output_type": "stream",
     "text": [
      "Device:  cuda\n"
     ]
    }
   ],
   "source": [
    "torch_device = \"cuda\" if torch.cuda.is_available() else \"cpu\"\n",
    "print(\"Device: \", torch_device)"
   ]
  },
  {
   "cell_type": "code",
   "execution_count": 14,
   "id": "dominant-bibliography",
   "metadata": {
    "scrolled": true
   },
   "outputs": [],
   "source": [
    "tokenizer = BartTokenizer.from_pretrained(\"facebook/bart-large-cnn\")\n",
    "model = BartForConditionalGeneration.from_pretrained(\"facebook/bart-large-cnn\").to(\n",
    "    torch_device\n",
    ")"
   ]
  },
  {
   "cell_type": "code",
   "execution_count": 15,
   "id": "front-hanging",
   "metadata": {},
   "outputs": [],
   "source": [
    "def bart_summarize(\n",
    "    text,\n",
    "    num_beams=4,\n",
    "    length_penalty=2,\n",
    "    max_length=1024,\n",
    "    min_length=52,\n",
    "    no_repeat_ngram_size=3,\n",
    "):\n",
    "    \"\"\"Sumarize text using BART.\"\"\"\n",
    "\n",
    "    text = text.replace(\"\\n\", \"\")\n",
    "    text_input_ids = tokenizer.batch_encode_plus(\n",
    "        [text], return_tensors=\"pt\", max_length=1024\n",
    "    )[\"input_ids\"].to(torch_device)\n",
    "\n",
    "    summary_ids = model.generate(\n",
    "        text_input_ids,\n",
    "        num_beams=int(num_beams),\n",
    "        length_penalty=float(length_penalty),\n",
    "        max_length=int(max_length),\n",
    "        min_length=int(min_length),\n",
    "        no_repeat_ngram_size=int(no_repeat_ngram_size),\n",
    "    )\n",
    "    summary_txt = tokenizer.decode(summary_ids.squeeze(), skip_special_tokens=True)\n",
    "    return summary_txt"
   ]
  },
  {
   "cell_type": "markdown",
   "id": "integral-compilation",
   "metadata": {},
   "source": [
    "# Evaluate"
   ]
  },
  {
   "cell_type": "code",
   "execution_count": 16,
   "id": "organized-budget",
   "metadata": {},
   "outputs": [],
   "source": [
    "for article in ARTICLE_GENERATOR:\n",
    "    pageid, summary, body = decode_row(article)"
   ]
  },
  {
   "cell_type": "code",
   "execution_count": 17,
   "id": "optimum-experience",
   "metadata": {},
   "outputs": [],
   "source": [
    "# model_summary = bart_summarize(body, length_penalty=0)"
   ]
  },
  {
   "cell_type": "code",
   "execution_count": 18,
   "id": "graduate-relaxation",
   "metadata": {},
   "outputs": [
    {
     "name": "stdout",
     "output_type": "stream",
     "text": [
      "\n",
      "Born in 1748, Roe was the only surviving child of Robert Roe (died 1753) of Brinwith, Glamorganshire, and his wife, Hester (died 1760), daughter of William Wraxall of Bristol. In 1775, he married Susan Margaret (died 1831), daughter of Sir William Thomas, 2nd Baronet (died 1777), of Yapton Place; they had five children: William Thomas Roe (1776–1834); Louisa Georgiana Roe (1778–1843); George Henry Popham Roe and Edward Wrexhall Roe, who both died in infancy; and Frederick Adair Roe (1789–1866). Roe was close to his eldest son William and thought highly of him.\n",
      "\n",
      "\n",
      "A provincial from Bristol working as a customs official, Roe attracted the attention of Thomas Anguish after writing a series of critical, moralistic articles concerning Lord Shelburne's 1783 peace treaty with America. That year, Anguish co-opted Roe as a Commissioner for Auditing Public Accounts; the commission, which was tasked with investigating government finances and making recommendations, produced influential reports on reforming public expenditure and has been considered a catalyst for the administrative revolution in British government which followed in the late 18th and early 19th centuries. Roe himself authored one of the reports (the fifteenth in the series) and was the most active member, after Anguish.\n",
      "\n",
      "In 1788, Roe was appointed a Commissioner of Customs, replacing John Pownall; seen as an active administrator, the appointment was made by William Pitt the Younger's government as part of a series of moves to reform the tangled finances and inefficiencies of the Board of Customs, a department which (with the Board of Revenue) was responsible for two thirds of the national income. He became chairman of the board in 1805, succeeding Thomas Boone, and served in that office until 1819, chairing the board jointly with Richard Frewin until 1813 and then Francis Fownes Luttrell. He and Luttrell were succeeded as chairmen by Richard Betenson Dean. When he resigned his commission, Roe negotiated to have his son William appointed in his place; for the historian John Ehrman, this highlights the blurred distinctions between administrative appointees and political or social ones, while W. R. Ward argues that such a bargain show how the office was viewed as a negotiable asset.\n",
      "\n",
      "Roe bought the manors of Withdean and Withdean Caycliffe near Brighton in 1794, and was active in improving and managing the estate; he planted a large number of trees on some of the land, establishing Withdean Park. He was also a deputy lieutenant of Sussex.\n",
      "\n",
      "Roe died on 6 March 1826 at Brighton, aged 78.\n",
      "\n",
      "\n",
      "Roe's notebooks and diaries, recorded from 1775 to 1809, were edited by Charles Thomas-Stanford and published as The Private Memorandums of William Roe (Brighton, 1928).\n",
      "\n",
      "Roe's eldest son William inherited Withdean, living there and dying in 1834; he had married his cousin, Mary Elizabeth (died 1842), daughter of Daniel Byam Mathew, of Felix Hall. The younger William received an income from an estate called Cochrane's, Old North Sound, in Antigua, which (with its slaves) had been placed in trust for Roe and his wife by Mathew under the terms of their marriage settlement made in 1815; it was sold by the trustees a year later. The younger Roe and his wife had two sons and a daughter; the sons being George Cholmeley Roe, who died shorthly after his birth, and William Dering Adair Roe (1816–1838), who died childless; the daughter Eliza Sophia Frances, who became William Roe the younger's sole heir, married Sir Chaloner Ogle, 3rd Baronet. The Withdean estate passed to her and then to her daughter Hebe Emily Moritana Ogle (died 1889) and was sold by Hebe's widowed daughter-in-law, who was administering the estate for Hebe's husband.\n",
      "\n",
      "The elder William Roe's younger son Frederick was a prominent lawyer, who served as Chief Magistrate of the Bow Street Magistrates; created a baronet in 1836, he died childless in 1866.\n",
      "\n",
      "\n"
     ]
    }
   ],
   "source": [
    "print(body)"
   ]
  },
  {
   "cell_type": "code",
   "execution_count": 19,
   "id": "humanitarian-edmonton",
   "metadata": {},
   "outputs": [],
   "source": [
    "candidate = body\n",
    "reference = summary"
   ]
  },
  {
   "cell_type": "code",
   "execution_count": 20,
   "id": "finnish-elements",
   "metadata": {},
   "outputs": [],
   "source": [
    "from nltk.translate.bleu_score import sentence_bleu\n",
    "from nltk import word_tokenize"
   ]
  },
  {
   "cell_type": "code",
   "execution_count": 21,
   "id": "municipal-safety",
   "metadata": {},
   "outputs": [],
   "source": [
    "candidate = word_tokenize(candidate)\n",
    "reference = word_tokenize(reference)\n",
    "weights = (1, 0, 0, 0)"
   ]
  },
  {
   "cell_type": "code",
   "execution_count": 22,
   "id": "mediterranean-prague",
   "metadata": {},
   "outputs": [
    {
     "name": "stderr",
     "output_type": "stream",
     "text": [
      "/home/ivanr/anaconda3/envs/doc_info/lib/python3.7/site-packages/nltk/translate/bleu_score.py:515: UserWarning: \n",
      "The hypothesis contains 0 counts of 2-gram overlaps.\n",
      "Therefore the BLEU score evaluates to 0, independently of\n",
      "how many N-gram overlaps of lower order it contains.\n",
      "Consider using lower n-gram order or use SmoothingFunction()\n",
      "  warnings.warn(_msg)\n",
      "/home/ivanr/anaconda3/envs/doc_info/lib/python3.7/site-packages/nltk/translate/bleu_score.py:515: UserWarning: \n",
      "The hypothesis contains 0 counts of 3-gram overlaps.\n",
      "Therefore the BLEU score evaluates to 0, independently of\n",
      "how many N-gram overlaps of lower order it contains.\n",
      "Consider using lower n-gram order or use SmoothingFunction()\n",
      "  warnings.warn(_msg)\n",
      "/home/ivanr/anaconda3/envs/doc_info/lib/python3.7/site-packages/nltk/translate/bleu_score.py:515: UserWarning: \n",
      "The hypothesis contains 0 counts of 4-gram overlaps.\n",
      "Therefore the BLEU score evaluates to 0, independently of\n",
      "how many N-gram overlaps of lower order it contains.\n",
      "Consider using lower n-gram order or use SmoothingFunction()\n",
      "  warnings.warn(_msg)\n"
     ]
    },
    {
     "data": {
      "text/plain": [
       "0.16071428571428573"
      ]
     },
     "execution_count": 22,
     "metadata": {},
     "output_type": "execute_result"
    }
   ],
   "source": [
    "sentence_bleu(candidate, reference, weights=weights)"
   ]
  },
  {
   "cell_type": "code",
   "execution_count": null,
   "id": "structured-mistake",
   "metadata": {},
   "outputs": [],
   "source": []
  },
  {
   "cell_type": "code",
   "execution_count": null,
   "id": "executed-capitol",
   "metadata": {},
   "outputs": [],
   "source": []
  },
  {
   "cell_type": "code",
   "execution_count": null,
   "id": "automotive-hebrew",
   "metadata": {},
   "outputs": [],
   "source": []
  },
  {
   "cell_type": "code",
   "execution_count": null,
   "id": "australian-street",
   "metadata": {},
   "outputs": [],
   "source": []
  },
  {
   "cell_type": "code",
   "execution_count": null,
   "id": "widespread-belarus",
   "metadata": {},
   "outputs": [],
   "source": []
  },
  {
   "cell_type": "code",
   "execution_count": null,
   "id": "independent-involvement",
   "metadata": {},
   "outputs": [],
   "source": []
  },
  {
   "cell_type": "code",
   "execution_count": null,
   "id": "filled-multiple",
   "metadata": {},
   "outputs": [],
   "source": []
  },
  {
   "cell_type": "code",
   "execution_count": null,
   "id": "refined-clarity",
   "metadata": {},
   "outputs": [],
   "source": []
  },
  {
   "cell_type": "code",
   "execution_count": null,
   "id": "solar-inside",
   "metadata": {},
   "outputs": [],
   "source": []
  },
  {
   "cell_type": "code",
   "execution_count": null,
   "id": "cognitive-pennsylvania",
   "metadata": {},
   "outputs": [],
   "source": []
  },
  {
   "cell_type": "code",
   "execution_count": null,
   "id": "adjusted-hayes",
   "metadata": {},
   "outputs": [],
   "source": []
  },
  {
   "cell_type": "code",
   "execution_count": null,
   "id": "satisfied-functionality",
   "metadata": {},
   "outputs": [],
   "source": []
  },
  {
   "cell_type": "code",
   "execution_count": null,
   "id": "weekly-preservation",
   "metadata": {},
   "outputs": [],
   "source": []
  },
  {
   "cell_type": "code",
   "execution_count": null,
   "id": "classical-bahamas",
   "metadata": {},
   "outputs": [],
   "source": []
  },
  {
   "cell_type": "code",
   "execution_count": null,
   "id": "sized-maple",
   "metadata": {},
   "outputs": [],
   "source": []
  }
 ],
 "metadata": {
  "kernelspec": {
   "display_name": "Python 3",
   "language": "python",
   "name": "python3"
  },
  "language_info": {
   "codemirror_mode": {
    "name": "ipython",
    "version": 3
   },
   "file_extension": ".py",
   "mimetype": "text/x-python",
   "name": "python",
   "nbconvert_exporter": "python",
   "pygments_lexer": "ipython3",
   "version": "3.7.10"
  },
  "toc": {
   "base_numbering": 1,
   "nav_menu": {},
   "number_sections": true,
   "sideBar": true,
   "skip_h1_title": false,
   "title_cell": "Table of Contents",
   "title_sidebar": "Contents",
   "toc_cell": true,
   "toc_position": {
    "height": "calc(100% - 180px)",
    "left": "10px",
    "top": "150px",
    "width": "330.396px"
   },
   "toc_section_display": true,
   "toc_window_display": true
  },
  "varInspector": {
   "cols": {
    "lenName": 16,
    "lenType": 16,
    "lenVar": 40
   },
   "kernels_config": {
    "python": {
     "delete_cmd_postfix": "",
     "delete_cmd_prefix": "del ",
     "library": "var_list.py",
     "varRefreshCmd": "print(var_dic_list())"
    },
    "r": {
     "delete_cmd_postfix": ") ",
     "delete_cmd_prefix": "rm(",
     "library": "var_list.r",
     "varRefreshCmd": "cat(var_dic_list()) "
    }
   },
   "types_to_exclude": [
    "module",
    "function",
    "builtin_function_or_method",
    "instance",
    "_Feature"
   ],
   "window_display": false
  }
 },
 "nbformat": 4,
 "nbformat_minor": 5
}
