{
 "cells": [
  {
   "cell_type": "markdown",
   "id": "unable-portable",
   "metadata": {},
   "source": [
    "# Imports"
   ]
  },
  {
   "cell_type": "code",
   "execution_count": 1,
   "id": "executed-pantyhose",
   "metadata": {},
   "outputs": [],
   "source": [
    "import os \n",
    "os.chdir(\"/home/ivanr/git/document_information_extraction/\")"
   ]
  },
  {
   "cell_type": "code",
   "execution_count": 2,
   "id": "precious-railway",
   "metadata": {},
   "outputs": [],
   "source": [
    "import pandas as pd\n",
    "import matplotlib.pyplot as plt\n",
    "import seaborn as sns\n",
    "import numpy as np"
   ]
  },
  {
   "cell_type": "code",
   "execution_count": 3,
   "id": "italian-literacy",
   "metadata": {},
   "outputs": [
    {
     "ename": "ImportError",
     "evalue": "cannot import name 'retrive_observations_from_ids' from 'src.data.wikipedia.wiki_data_base' (/home/ivanr/git/document_information_extraction/src/data/wikipedia/wiki_data_base.py)",
     "output_type": "error",
     "traceback": [
      "\u001b[0;31m---------------------------------------------------------------------------\u001b[0m",
      "\u001b[0;31mImportError\u001b[0m                               Traceback (most recent call last)",
      "\u001b[0;32m<ipython-input-3-c065b1ec60af>\u001b[0m in \u001b[0;36m<module>\u001b[0;34m\u001b[0m\n\u001b[0;32m----> 1\u001b[0;31m \u001b[0;32mfrom\u001b[0m \u001b[0msrc\u001b[0m\u001b[0;34m.\u001b[0m\u001b[0mdata\u001b[0m\u001b[0;34m.\u001b[0m\u001b[0mwikipedia\u001b[0m\u001b[0;34m.\u001b[0m\u001b[0mwiki_data_base\u001b[0m \u001b[0;32mimport\u001b[0m \u001b[0mretrieve_query\u001b[0m\u001b[0;34m,\u001b[0m \u001b[0mretrive_observations_from_ids\u001b[0m\u001b[0;34m\u001b[0m\u001b[0;34m\u001b[0m\u001b[0m\n\u001b[0m",
      "\u001b[0;31mImportError\u001b[0m: cannot import name 'retrive_observations_from_ids' from 'src.data.wikipedia.wiki_data_base' (/home/ivanr/git/document_information_extraction/src/data/wikipedia/wiki_data_base.py)"
     ]
    }
   ],
   "source": [
    "from src.data.wikipedia.wiki_data_base import retrieve_query, retrive_observations_from_ids"
   ]
  },
  {
   "cell_type": "markdown",
   "id": "common-pontiac",
   "metadata": {},
   "source": [
    "# Statics"
   ]
  },
  {
   "cell_type": "code",
   "execution_count": null,
   "id": "fitted-aside",
   "metadata": {},
   "outputs": [],
   "source": [
    "from src.data.data_statics import INTERIM_DATA_PATH"
   ]
  },
  {
   "cell_type": "markdown",
   "id": "communist-cameroon",
   "metadata": {},
   "source": [
    "# Read data"
   ]
  },
  {
   "cell_type": "code",
   "execution_count": null,
   "id": "automotive-trace",
   "metadata": {},
   "outputs": [],
   "source": [
    "db_path = INTERIM_DATA_PATH / \"wiki_db_dumps_test_temp.db\"\n",
    "query = \"\"\"\n",
    "    SELECT *\n",
    "    FROM summary_similarity\n",
    "   -- limit 125000\n",
    "\"\"\""
   ]
  },
  {
   "cell_type": "code",
   "execution_count": null,
   "id": "excellent-toilet",
   "metadata": {},
   "outputs": [],
   "source": [
    "a = set(\n",
    "    [\n",
    "        i\n",
    "        for i in string.ascii_letters\n",
    "        + string.ascii_lowercase\n",
    "        + string.ascii_uppercase\n",
    "        + string.punctuation\n",
    "        + string.digits\n",
    "        + string.printable\n",
    "        + \"?\"\n",
    "        + \"!\"\n",
    "    ]\n",
    ")\n",
    "a.difference_update({\"[\", \"]\", \"\\\\\", '\"', \"#\", \"^\", \"_\", \"`\", \"{\", \"|\", \"}\", \"~\"})"
   ]
  },
  {
   "cell_type": "code",
   "execution_count": null,
   "id": "statewide-firewall",
   "metadata": {},
   "outputs": [],
   "source": [
    "a"
   ]
  },
  {
   "cell_type": "code",
   "execution_count": null,
   "id": "blessed-updating",
   "metadata": {},
   "outputs": [],
   "source": []
  },
  {
   "cell_type": "code",
   "execution_count": null,
   "id": "educated-large",
   "metadata": {},
   "outputs": [],
   "source": [
    "data = retrieve_query(query,db_path)"
   ]
  },
  {
   "cell_type": "markdown",
   "id": "athletic-offer",
   "metadata": {},
   "source": [
    "# Clean up"
   ]
  },
  {
   "cell_type": "code",
   "execution_count": null,
   "id": "danish-proposal",
   "metadata": {},
   "outputs": [],
   "source": [
    "def isEnglish(s):\n",
    "    try:\n",
    "        s.encode(encoding='utf-8').decode('ascii')\n",
    "    except UnicodeDecodeError:\n",
    "        return False\n",
    "    else:\n",
    "        return True\n",
    "    \n",
    "    \n",
    "import string\n",
    "\n",
    "def isEnglish(s):\n",
    "    return s.translate( string.punctuation).isalnum()"
   ]
  },
  {
   "cell_type": "code",
   "execution_count": null,
   "id": "earned-composer",
   "metadata": {},
   "outputs": [],
   "source": [
    "isEnglish(\"சிவப்பிரகாசர்\")"
   ]
  },
  {
   "cell_type": "code",
   "execution_count": null,
   "id": "unknown-producer",
   "metadata": {
    "scrolled": false
   },
   "outputs": [],
   "source": [
    "# for sent in data:\n",
    "#     if isEnglish(sent[-1]):\n",
    "#         pass\n",
    "#     else:\n",
    "#         print(sent[-1])\n",
    "#         print(\" \")\n",
    "        "
   ]
  },
  {
   "cell_type": "code",
   "execution_count": null,
   "id": "first-purse",
   "metadata": {},
   "outputs": [],
   "source": [
    "df = pd.DataFrame(\n",
    "    [[sent[i] for i in range(6)] for sent in data],\n",
    "    columns=[\"id\", \"page_id\", \"sent_num\", \"precision\", \"recall\", \"f1\"],\n",
    ")\n",
    "df"
   ]
  },
  {
   "cell_type": "markdown",
   "id": "related-passport",
   "metadata": {},
   "source": [
    "# Plot distributions"
   ]
  },
  {
   "cell_type": "markdown",
   "id": "editorial-cooling",
   "metadata": {},
   "source": [
    "## Single variable distribution"
   ]
  },
  {
   "cell_type": "code",
   "execution_count": null,
   "id": "chief-yemen",
   "metadata": {},
   "outputs": [],
   "source": [
    "for var in [\"precision\", \"recall\", \"f1\"]:\n",
    "    plt.figure(figsize = (12.5,7.5))\n",
    "    plt.title(var, fontsize = 20)\n",
    "    quantile = df[var].quantile(.99)\n",
    "    df[var].hist(bins = 100, density = True)\n",
    "    plt.show()"
   ]
  },
  {
   "cell_type": "markdown",
   "id": "imported-mailing",
   "metadata": {},
   "source": [
    "## Joint distributions"
   ]
  },
  {
   "cell_type": "code",
   "execution_count": null,
   "id": "attempted-valuable",
   "metadata": {},
   "outputs": [],
   "source": []
  },
  {
   "cell_type": "markdown",
   "id": "eligible-living",
   "metadata": {},
   "source": [
    "# Sample evaluation"
   ]
  },
  {
   "cell_type": "code",
   "execution_count": null,
   "id": "postal-perth",
   "metadata": {},
   "outputs": [],
   "source": [
    "def evaluate_threshold(df, threshold, metric,n_samples = 5):\n",
    "    overview = (\n",
    "        df[df[metric] >= threshold]\n",
    "        .sort_values(by=metric, ascending=True)\n",
    "        .head(n_samples)\n",
    "        .reset_index()\n",
    "    )\n",
    "    display(overview)\n",
    "    overview = list(overview[\"id\"])\n",
    "\n",
    "    for i in overview:\n",
    "        print(\"\\n\", \"-\" * 20, i, \"-\" * 20)\n",
    "        print(\"Summary\\n\")\n",
    "        print(data_dict[i][-1])\n",
    "        print(\"\\ntext\\n\")\n",
    "        print(\n",
    "            (\n",
    "                retrive_observations_from_ids(\n",
    "                    ids=[int(i.split(\"_\")[0])], out_f=str(db_path)\n",
    "                )[0][1]\n",
    "            ).decode()\n",
    "        )"
   ]
  },
  {
   "cell_type": "markdown",
   "id": "falling-punch",
   "metadata": {},
   "source": [
    "## f1"
   ]
  },
  {
   "cell_type": "code",
   "execution_count": null,
   "id": "unsigned-shell",
   "metadata": {},
   "outputs": [],
   "source": [
    "for q in np.quantile(df[\"f1\"], [(i+.5)/10 for i in range(10)]):\n",
    "    evaluate_threshold(df,.5, \"f1\")"
   ]
  },
  {
   "cell_type": "markdown",
   "id": "chinese-polymer",
   "metadata": {},
   "source": [
    "## Precision "
   ]
  },
  {
   "cell_type": "code",
   "execution_count": null,
   "id": "detected-symphony",
   "metadata": {},
   "outputs": [],
   "source": [
    "for q in np.quantile(df[\"precision\"], [(i+.5)/10 for i in range(10)]):\n",
    "    evaluate_threshold(df,.5, \"precision\")"
   ]
  },
  {
   "cell_type": "markdown",
   "id": "individual-specialist",
   "metadata": {},
   "source": [
    "## Recall"
   ]
  },
  {
   "cell_type": "code",
   "execution_count": null,
   "id": "monthly-elevation",
   "metadata": {},
   "outputs": [],
   "source": [
    "for q in np.quantile(df[\"recall\"], [(i+.5)/10 for i in range(10)]):\n",
    "    evaluate_threshold(df,.5, \"recall\")"
   ]
  },
  {
   "cell_type": "code",
   "execution_count": null,
   "id": "boxed-information",
   "metadata": {},
   "outputs": [],
   "source": []
  },
  {
   "cell_type": "code",
   "execution_count": null,
   "id": "imposed-financing",
   "metadata": {},
   "outputs": [],
   "source": []
  },
  {
   "cell_type": "code",
   "execution_count": null,
   "id": "painted-truth",
   "metadata": {},
   "outputs": [],
   "source": []
  },
  {
   "cell_type": "code",
   "execution_count": null,
   "id": "ecological-comparative",
   "metadata": {},
   "outputs": [],
   "source": []
  }
 ],
 "metadata": {
  "kernelspec": {
   "display_name": "doc_info",
   "language": "python",
   "name": "doc_info"
  },
  "language_info": {
   "codemirror_mode": {
    "name": "ipython",
    "version": 3
   },
   "file_extension": ".py",
   "mimetype": "text/x-python",
   "name": "python",
   "nbconvert_exporter": "python",
   "pygments_lexer": "ipython3",
   "version": "3.7.10"
  },
  "toc": {
   "base_numbering": 1,
   "nav_menu": {},
   "number_sections": true,
   "sideBar": true,
   "skip_h1_title": false,
   "title_cell": "Table of Contents",
   "title_sidebar": "Contents",
   "toc_cell": false,
   "toc_position": {},
   "toc_section_display": true,
   "toc_window_display": false
  },
  "varInspector": {
   "cols": {
    "lenName": 16,
    "lenType": 16,
    "lenVar": 40
   },
   "kernels_config": {
    "python": {
     "delete_cmd_postfix": "",
     "delete_cmd_prefix": "del ",
     "library": "var_list.py",
     "varRefreshCmd": "print(var_dic_list())"
    },
    "r": {
     "delete_cmd_postfix": ") ",
     "delete_cmd_prefix": "rm(",
     "library": "var_list.r",
     "varRefreshCmd": "cat(var_dic_list()) "
    }
   },
   "types_to_exclude": [
    "module",
    "function",
    "builtin_function_or_method",
    "instance",
    "_Feature"
   ],
   "window_display": false
  }
 },
 "nbformat": 4,
 "nbformat_minor": 5
}
