{
 "cells": [
  {
   "cell_type": "markdown",
   "id": "deadly-telescope",
   "metadata": {
    "toc": true
   },
   "source": [
    "<h1>Table of Contents<span class=\"tocSkip\"></span></h1>\n",
    "<div class=\"toc\"><ul class=\"toc-item\"><li><span><a href=\"#Imports\" data-toc-modified-id=\"Imports-1\"><span class=\"toc-item-num\">1&nbsp;&nbsp;</span>Imports</a></span></li><li><span><a href=\"#Paths-and-constants\" data-toc-modified-id=\"Paths-and-constants-2\"><span class=\"toc-item-num\">2&nbsp;&nbsp;</span>Paths and constants</a></span></li><li><span><a href=\"#EDA-and-preprocessing\" data-toc-modified-id=\"EDA-and-preprocessing-3\"><span class=\"toc-item-num\">3&nbsp;&nbsp;</span>EDA and preprocessing</a></span><ul class=\"toc-item\"><li><span><a href=\"#Read-data\" data-toc-modified-id=\"Read-data-3.1\"><span class=\"toc-item-num\">3.1&nbsp;&nbsp;</span>Read data</a></span></li></ul></li><li><span><a href=\"#Sumarization-Gensim-ranktext\" data-toc-modified-id=\"Sumarization-Gensim-ranktext-4\"><span class=\"toc-item-num\">4&nbsp;&nbsp;</span>Sumarization Gensim ranktext</a></span></li></ul></div>"
   ]
  },
  {
   "cell_type": "markdown",
   "id": "recognized-continent",
   "metadata": {},
   "source": [
    "# Imports"
   ]
  },
  {
   "cell_type": "code",
   "execution_count": 1,
   "id": "focal-automation",
   "metadata": {},
   "outputs": [
    {
     "data": {
      "text/plain": [
       "'/home/ivanr/git/document_information_extraction'"
      ]
     },
     "execution_count": 1,
     "metadata": {},
     "output_type": "execute_result"
    }
   ],
   "source": [
    "import os\n",
    "\n",
    "os.chdir(\"/home/ivanr/git/document_information_extraction\")\n",
    "os.getcwd()"
   ]
  },
  {
   "cell_type": "code",
   "execution_count": 2,
   "id": "forty-grove",
   "metadata": {},
   "outputs": [],
   "source": [
    "from gensim.summarization.summarizer import summarize"
   ]
  },
  {
   "cell_type": "code",
   "execution_count": 3,
   "id": "secure-immunology",
   "metadata": {},
   "outputs": [],
   "source": [
    "from src.data.read_data import read_raw_files"
   ]
  },
  {
   "cell_type": "markdown",
   "id": "governing-variation",
   "metadata": {},
   "source": [
    "# Paths and constants"
   ]
  },
  {
   "cell_type": "code",
   "execution_count": null,
   "id": "choice-lewis",
   "metadata": {},
   "outputs": [],
   "source": []
  },
  {
   "cell_type": "markdown",
   "id": "blond-alloy",
   "metadata": {},
   "source": [
    "# EDA and preprocessing"
   ]
  },
  {
   "cell_type": "markdown",
   "id": "criminal-press",
   "metadata": {},
   "source": [
    "## Read data"
   ]
  },
  {
   "cell_type": "code",
   "execution_count": 4,
   "id": "funny-building",
   "metadata": {},
   "outputs": [],
   "source": [
    "cnn_question_files = read_raw_files()"
   ]
  },
  {
   "cell_type": "code",
   "execution_count": 5,
   "id": "changing-arcade",
   "metadata": {},
   "outputs": [
    {
     "name": "stdout",
     "output_type": "stream",
     "text": [
      "Number of observations in dataset: 92579\n"
     ]
    }
   ],
   "source": [
    "n_observations = len(cnn_question_files)\n",
    "print(f\"Number of observations in dataset: {n_observations}\")"
   ]
  },
  {
   "cell_type": "markdown",
   "id": "fifty-whole",
   "metadata": {},
   "source": [
    "# Sumarization Gensim ranktext"
   ]
  },
  {
   "cell_type": "code",
   "execution_count": 6,
   "id": "accepted-assistant",
   "metadata": {},
   "outputs": [],
   "source": [
    "text = list(cnn_question_files.values())[3]"
   ]
  },
  {
   "cell_type": "code",
   "execution_count": 10,
   "id": "civil-vacuum",
   "metadata": {},
   "outputs": [],
   "source": [
    "summarisation = summarize(text,ratio = 0.05)"
   ]
  },
  {
   "cell_type": "code",
   "execution_count": 11,
   "id": "varying-plaintiff",
   "metadata": {},
   "outputs": [
    {
     "name": "stdout",
     "output_type": "stream",
     "text": [
      "The Hoeven-Lugar-Vitter amendment to the highway funding bill, which we are now working to pass, authorizes TransCanada to construct and operate the Keystone XL pipeline from Alberta, Canada, to the Midwest and Gulf Coast, transporting an additional 830,000 barrels of oil per day to U.S. refineries.\n"
     ]
    }
   ],
   "source": [
    "print(summarisation)"
   ]
  },
  {
   "cell_type": "code",
   "execution_count": 9,
   "id": "valuable-period",
   "metadata": {},
   "outputs": [
    {
     "name": "stdout",
     "output_type": "stream",
     "text": [
      "The Keystone XL pipeline represents a big step toward true North American energy independence, reducing our reliance on Middle Eastern oil and increasing our access to energy from our own nation and our closest ally, Canada, along with some oil from Mexico -- to 75% of our daily consumption, compared with 70% now.\n",
      "\n",
      "That decades-long goal for our country is finally within reach, but we need to stay focused on the big picture, and we need to act. This $7 billion, 1,700-mile, high-tech transcontinental pipeline is a big-time, private-sector job creator, and it will also hold down the gas prices for consumers and reduce our energy dependence on an unstable part of the world. Finally, it will do so with good environmental stewardship.\n",
      "\n",
      "That's why I, along with 44 of my colleagues from across the nation, introduced new legislation to move the project toward approval and construction after President Barack Obama's rejection of the project last month.\n",
      "\n",
      "Another view: Ted Turner on the case against the Keystone XL pipeline\n",
      "\n",
      "The Hoeven-Lugar-Vitter amendment to the highway funding bill, which we are now working to pass, authorizes TransCanada to construct and operate the Keystone XL pipeline from Alberta, Canada, to the Midwest and Gulf Coast, transporting an additional 830,000 barrels of oil per day to U.S. refineries. This includes 100,000 barrels of crude oil a day from the Bakken region of North Dakota and Montana.\n",
      "\n",
      "That's key to my state, because providing pipeline capacity and gathering systems for that much North Dakota crude will take as many as 500 trucks a day off of roads in the oil patch. That's a win-win for producers, state revenues and most importantly, public safety on our Western highways.\n",
      "\n",
      "The Keystone XL project is good for North Dakota, but it is vital for the nation. Some 75% of the pipe for the Keystone XL pipeline will be made here in North America, 50% of it in Arkansas. Some 90% of all other construction materials will come from companies in the United States and Canada.\n",
      "\n",
      "From an environmental perspective, the project has been under review since September 2008, more than three years, and the State Department's environmental review, completed in August 2011, found \"no significant impacts on most resources\" providing environmental restrictions are met. Further, our new legislation includes all federal and state safeguards and sets no time limit on Nebraska's ability to further review the pipeline's route through the state, the only portion of the route in contention. Additionally, 80% of the new Canadian oil sands development is being developed \"in situ,\" meaning, it has a similar carbon footprint and emissions as conventional oil wells.\n",
      "\n",
      "If the Keystone XL pipeline isn't built, Canadian oil will still be produced -- 700,000 barrels a day of it -- but instead of coming down to our refineries in the United States, instead of creating jobs for American workers, instead of reducing our dependence on a turbulent part of the world, that oil will be shipped to China.\n",
      "\n",
      "It will have to be carried there on large oil tankers, creating more carbon emissions, and it will be processed at facilities with weaker environmental safeguards.\n",
      "\n",
      "Finally, it's important to point out that the Keystone XL pipeline is nothing new. Thousands of pipelines crisscross our nation, delivering refined products to fuel our cars, heat our homes and power our industries. In fact, the original Keystone pipeline, which became operational in 2010, runs from Alberta through my state of North Dakota. Contrary to claims by critics, the pipeline itself has never leaked. The leaks happened at fittings and seals at above-ground pumping stations, which were properly and promptly fixed.\n",
      "\n",
      "I have worked toward approval of the Keystone XL pipeline, first as governor of North Dakota and now as a U.S. senator, because I believe it helps our nation on so many levels. It is just the kind of project that will grow our economy and create jobs in the right way -- through private-sector investment.\n",
      "\n",
      "The Keystone XL pipeline will also help to wean us from our dependency on oil from volatile regions of the world and help us move toward a true energy independent future. It will make our nation safer and stronger for the American people.\n",
      "\n",
      "Follow CNN Opinion on Twitter\n",
      "\n",
      "Join the conversation on Facebook\n",
      "\n",
      "@highlight\n",
      "\n",
      "Keystone XL pipeline would take crude oil from Canada through Midwest to Gulf Coast\n",
      "\n",
      "@highlight\n",
      "\n",
      "John Hoeven: It will create jobs, help lead to North American energy independence\n",
      "\n",
      "@highlight\n",
      "\n",
      "Hoeven-Lugar-Vitter amendment would allow TransCanada to build the pipeline\n",
      "\n",
      "@highlight\n",
      "\n",
      "State Department reports it will have little environmental impact, Hoeven writes\n"
     ]
    }
   ],
   "source": [
    "print(text)"
   ]
  },
  {
   "cell_type": "code",
   "execution_count": null,
   "id": "automated-cedar",
   "metadata": {},
   "outputs": [],
   "source": []
  },
  {
   "cell_type": "code",
   "execution_count": null,
   "id": "touched-violin",
   "metadata": {},
   "outputs": [],
   "source": []
  },
  {
   "cell_type": "code",
   "execution_count": null,
   "id": "fitting-capital",
   "metadata": {},
   "outputs": [],
   "source": []
  },
  {
   "cell_type": "code",
   "execution_count": null,
   "id": "simplified-minneapolis",
   "metadata": {},
   "outputs": [],
   "source": []
  },
  {
   "cell_type": "code",
   "execution_count": null,
   "id": "efficient-drawing",
   "metadata": {},
   "outputs": [],
   "source": []
  },
  {
   "cell_type": "code",
   "execution_count": null,
   "id": "western-burton",
   "metadata": {},
   "outputs": [],
   "source": []
  },
  {
   "cell_type": "code",
   "execution_count": null,
   "id": "blind-stuff",
   "metadata": {},
   "outputs": [],
   "source": []
  },
  {
   "cell_type": "code",
   "execution_count": null,
   "id": "naughty-kingdom",
   "metadata": {},
   "outputs": [],
   "source": []
  },
  {
   "cell_type": "code",
   "execution_count": null,
   "id": "minus-florist",
   "metadata": {},
   "outputs": [],
   "source": []
  },
  {
   "cell_type": "code",
   "execution_count": null,
   "id": "collected-pledge",
   "metadata": {},
   "outputs": [],
   "source": []
  },
  {
   "cell_type": "code",
   "execution_count": null,
   "id": "respected-israel",
   "metadata": {},
   "outputs": [],
   "source": []
  },
  {
   "cell_type": "code",
   "execution_count": null,
   "id": "still-feature",
   "metadata": {},
   "outputs": [],
   "source": []
  },
  {
   "cell_type": "code",
   "execution_count": null,
   "id": "straight-vampire",
   "metadata": {},
   "outputs": [],
   "source": []
  },
  {
   "cell_type": "code",
   "execution_count": null,
   "id": "removable-owner",
   "metadata": {},
   "outputs": [],
   "source": []
  },
  {
   "cell_type": "code",
   "execution_count": null,
   "id": "optional-zoning",
   "metadata": {},
   "outputs": [],
   "source": []
  },
  {
   "cell_type": "code",
   "execution_count": null,
   "id": "according-yesterday",
   "metadata": {},
   "outputs": [],
   "source": []
  },
  {
   "cell_type": "code",
   "execution_count": null,
   "id": "super-watershed",
   "metadata": {},
   "outputs": [],
   "source": []
  },
  {
   "cell_type": "code",
   "execution_count": null,
   "id": "tutorial-chinese",
   "metadata": {},
   "outputs": [],
   "source": []
  },
  {
   "cell_type": "code",
   "execution_count": null,
   "id": "early-housing",
   "metadata": {},
   "outputs": [],
   "source": []
  },
  {
   "cell_type": "code",
   "execution_count": null,
   "id": "welcome-saint",
   "metadata": {},
   "outputs": [],
   "source": []
  },
  {
   "cell_type": "code",
   "execution_count": null,
   "id": "seven-classics",
   "metadata": {},
   "outputs": [],
   "source": []
  },
  {
   "cell_type": "code",
   "execution_count": null,
   "id": "pharmaceutical-medium",
   "metadata": {},
   "outputs": [],
   "source": []
  },
  {
   "cell_type": "code",
   "execution_count": null,
   "id": "subjective-cannon",
   "metadata": {},
   "outputs": [],
   "source": []
  },
  {
   "cell_type": "code",
   "execution_count": null,
   "id": "inside-scientist",
   "metadata": {},
   "outputs": [],
   "source": []
  },
  {
   "cell_type": "code",
   "execution_count": null,
   "id": "nuclear-kennedy",
   "metadata": {},
   "outputs": [],
   "source": []
  },
  {
   "cell_type": "code",
   "execution_count": null,
   "id": "regulated-necessity",
   "metadata": {},
   "outputs": [],
   "source": []
  },
  {
   "cell_type": "code",
   "execution_count": null,
   "id": "significant-windows",
   "metadata": {},
   "outputs": [],
   "source": []
  },
  {
   "cell_type": "code",
   "execution_count": null,
   "id": "satellite-pathology",
   "metadata": {},
   "outputs": [],
   "source": []
  },
  {
   "cell_type": "code",
   "execution_count": null,
   "id": "nominated-tunnel",
   "metadata": {},
   "outputs": [],
   "source": []
  },
  {
   "cell_type": "code",
   "execution_count": null,
   "id": "tribal-angola",
   "metadata": {},
   "outputs": [],
   "source": []
  },
  {
   "cell_type": "code",
   "execution_count": null,
   "id": "liberal-sugar",
   "metadata": {},
   "outputs": [],
   "source": []
  },
  {
   "cell_type": "code",
   "execution_count": null,
   "id": "detailed-scotland",
   "metadata": {},
   "outputs": [],
   "source": []
  },
  {
   "cell_type": "code",
   "execution_count": null,
   "id": "measured-sampling",
   "metadata": {},
   "outputs": [],
   "source": []
  },
  {
   "cell_type": "code",
   "execution_count": null,
   "id": "reserved-triangle",
   "metadata": {},
   "outputs": [],
   "source": []
  },
  {
   "cell_type": "code",
   "execution_count": null,
   "id": "overhead-physics",
   "metadata": {},
   "outputs": [],
   "source": []
  },
  {
   "cell_type": "code",
   "execution_count": null,
   "id": "automotive-found",
   "metadata": {},
   "outputs": [],
   "source": []
  },
  {
   "cell_type": "code",
   "execution_count": null,
   "id": "bibliographic-pickup",
   "metadata": {},
   "outputs": [],
   "source": []
  },
  {
   "cell_type": "code",
   "execution_count": null,
   "id": "preceding-costume",
   "metadata": {},
   "outputs": [],
   "source": []
  },
  {
   "cell_type": "code",
   "execution_count": null,
   "id": "subtle-halifax",
   "metadata": {},
   "outputs": [],
   "source": []
  },
  {
   "cell_type": "code",
   "execution_count": null,
   "id": "informational-cyprus",
   "metadata": {},
   "outputs": [],
   "source": []
  },
  {
   "cell_type": "code",
   "execution_count": null,
   "id": "changing-blues",
   "metadata": {},
   "outputs": [],
   "source": []
  },
  {
   "cell_type": "code",
   "execution_count": null,
   "id": "yellow-affair",
   "metadata": {},
   "outputs": [],
   "source": []
  },
  {
   "cell_type": "code",
   "execution_count": null,
   "id": "accredited-girlfriend",
   "metadata": {},
   "outputs": [],
   "source": []
  },
  {
   "cell_type": "code",
   "execution_count": null,
   "id": "heated-fault",
   "metadata": {},
   "outputs": [],
   "source": []
  },
  {
   "cell_type": "code",
   "execution_count": null,
   "id": "rational-scale",
   "metadata": {},
   "outputs": [],
   "source": []
  },
  {
   "cell_type": "code",
   "execution_count": null,
   "id": "certified-borough",
   "metadata": {},
   "outputs": [],
   "source": []
  },
  {
   "cell_type": "code",
   "execution_count": null,
   "id": "middle-logistics",
   "metadata": {},
   "outputs": [],
   "source": []
  },
  {
   "cell_type": "code",
   "execution_count": null,
   "id": "hourly-missouri",
   "metadata": {},
   "outputs": [],
   "source": []
  },
  {
   "cell_type": "code",
   "execution_count": null,
   "id": "split-albany",
   "metadata": {},
   "outputs": [],
   "source": []
  },
  {
   "cell_type": "code",
   "execution_count": null,
   "id": "million-hearts",
   "metadata": {},
   "outputs": [],
   "source": []
  }
 ],
 "metadata": {
  "kernelspec": {
   "display_name": "doc_info",
   "language": "python",
   "name": "doc_info"
  },
  "language_info": {
   "codemirror_mode": {
    "name": "ipython",
    "version": 3
   },
   "file_extension": ".py",
   "mimetype": "text/x-python",
   "name": "python",
   "nbconvert_exporter": "python",
   "pygments_lexer": "ipython3",
   "version": "3.7.10"
  },
  "toc": {
   "base_numbering": 1,
   "nav_menu": {},
   "number_sections": true,
   "sideBar": true,
   "skip_h1_title": false,
   "title_cell": "Table of Contents",
   "title_sidebar": "Contents",
   "toc_cell": true,
   "toc_position": {},
   "toc_section_display": true,
   "toc_window_display": true
  },
  "varInspector": {
   "cols": {
    "lenName": 16,
    "lenType": 16,
    "lenVar": 40
   },
   "kernels_config": {
    "python": {
     "delete_cmd_postfix": "",
     "delete_cmd_prefix": "del ",
     "library": "var_list.py",
     "varRefreshCmd": "print(var_dic_list())"
    },
    "r": {
     "delete_cmd_postfix": ") ",
     "delete_cmd_prefix": "rm(",
     "library": "var_list.r",
     "varRefreshCmd": "cat(var_dic_list()) "
    }
   },
   "types_to_exclude": [
    "module",
    "function",
    "builtin_function_or_method",
    "instance",
    "_Feature"
   ],
   "window_display": false
  }
 },
 "nbformat": 4,
 "nbformat_minor": 5
}
